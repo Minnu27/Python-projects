{
 "cells": [
  {
   "cell_type": "code",
   "execution_count": 6,
   "metadata": {},
   "outputs": [
    {
     "name": "stdout",
     "output_type": "stream",
     "text": [
      "Collecting bs4\n",
      "  Downloading bs4-0.0.2-py2.py3-none-any.whl.metadata (411 bytes)\n",
      "Collecting beautifulsoup4 (from bs4)\n",
      "  Downloading beautifulsoup4-4.12.3-py3-none-any.whl.metadata (3.8 kB)\n",
      "Collecting soupsieve>1.2 (from beautifulsoup4->bs4)\n",
      "  Downloading soupsieve-2.6-py3-none-any.whl.metadata (4.6 kB)\n",
      "Downloading bs4-0.0.2-py2.py3-none-any.whl (1.2 kB)\n",
      "Downloading beautifulsoup4-4.12.3-py3-none-any.whl (147 kB)\n",
      "Downloading soupsieve-2.6-py3-none-any.whl (36 kB)\n",
      "Installing collected packages: soupsieve, beautifulsoup4, bs4\n",
      "Successfully installed beautifulsoup4-4.12.3 bs4-0.0.2 soupsieve-2.6\n"
     ]
    }
   ],
   "source": [
    "! pip install bs4"
   ]
  },
  {
   "cell_type": "code",
   "execution_count": 16,
   "metadata": {},
   "outputs": [
    {
     "name": "stdout",
     "output_type": "stream",
     "text": [
      "Collecting webdriver_manager\n",
      "  Downloading webdriver_manager-4.0.2-py2.py3-none-any.whl.metadata (12 kB)\n",
      "Requirement already satisfied: requests in c:\\users\\hp\\python installations\\lib\\site-packages (from webdriver_manager) (2.32.3)\n",
      "Collecting python-dotenv (from webdriver_manager)\n",
      "  Using cached python_dotenv-1.0.1-py3-none-any.whl.metadata (23 kB)\n",
      "Requirement already satisfied: packaging in c:\\users\\hp\\appdata\\roaming\\python\\python312\\site-packages (from webdriver_manager) (24.1)\n",
      "Requirement already satisfied: charset-normalizer<4,>=2 in c:\\users\\hp\\python installations\\lib\\site-packages (from requests->webdriver_manager) (3.3.2)\n",
      "Requirement already satisfied: idna<4,>=2.5 in c:\\users\\hp\\python installations\\lib\\site-packages (from requests->webdriver_manager) (3.8)\n",
      "Requirement already satisfied: urllib3<3,>=1.21.1 in c:\\users\\hp\\python installations\\lib\\site-packages (from requests->webdriver_manager) (2.2.3)\n",
      "Requirement already satisfied: certifi>=2017.4.17 in c:\\users\\hp\\python installations\\lib\\site-packages (from requests->webdriver_manager) (2024.8.30)\n",
      "Downloading webdriver_manager-4.0.2-py2.py3-none-any.whl (27 kB)\n",
      "Using cached python_dotenv-1.0.1-py3-none-any.whl (19 kB)\n",
      "Installing collected packages: python-dotenv, webdriver_manager\n",
      "Successfully installed python-dotenv-1.0.1 webdriver_manager-4.0.2\n"
     ]
    }
   ],
   "source": [
    "! pip install webdriver_manager\n"
   ]
  },
  {
   "cell_type": "code",
   "execution_count": 18,
   "metadata": {},
   "outputs": [
    {
     "name": "stdout",
     "output_type": "stream",
     "text": [
      "NO 1: Chart data: Coronavirus (COVID-19) cases, %%COUNTRY%% dataSource: World Health OrganizationWhat is the definition of 'confirmed' and 'reported' in COVID-19 data?All data represents the date of reporting as opposed to date of symptom onset. All data is subject to continuous verification and may change based on retrospective updates to accurately reflect trends, changes in country case definitions and/or reporting practices. Significant data errors detected or reported to WHO may be corrected at more frequent intervals with some countries performing retrospective bulk corrections may lead to the appearance of significant spikes or negative values which are verified and validated by WHO.In the context of WHO's statistical reporting of COVID-19 data, it is important to note that only confirmed cases are included in case and death counts. In guidance updated on 22 July 2023; there are two alternative definitions for 'Confirmed case of SARS-CoV-2 infection' in international surveillance reporting, although some departures may exist due to local adaptations:a) A person with a positive Nucleic Acid Amplification Test (NAAT), regardless of clinical criteria OR epidemiological criteria.b) A person meeting clinical criteria AND/OR epidemiological criteria (suspect case A) with a positive professional-use or self-test SARS-CoV-2 Antigen-RDT.Additionally, WHO only disseminates data as reported by its Member States. From the 31 December 2019 to the 21 March 2020, WHO collected the numbers of confirmed COVID-19 cases and deaths through official communications under the International Health Regulations (IHR, 2005), complemented by monitoring the official ministries of health websites and social media accounts.Since 22 March 2020, global data has been compiled through WHO region-specific dashboards, and/or aggregate count data reported directly to WHO headquarters by Member States. Statistical counts include both domestic and repatriated cases. Case detection, definitions, testing strategies, reporting practice, and lag times (e.g. time to case notification, and time to reporting of deaths) differ between countries, territories and areas. These factors, amongst others, influence the counts presented with variable under or overestimation of true case and death counts, and variable delays to reflecting these statistics at a global level. Please note that statistics do not necessarily reflect the actual number of cases and deaths or the actual number of countries where cases and deaths are occurring, as a number of countries have stopped reporting or changed their frequency of reporting.\n"
     ]
    }
   ],
   "source": [
    "import requests\n",
    "from bs4 import BeautifulSoup\n",
    "\n",
    "# Function to fetch data from a URL\n",
    "def get_data(url):\n",
    "    try:\n",
    "        response = requests.get(url)\n",
    "        response.raise_for_status()  # Check if the request was successful\n",
    "        return response.text\n",
    "    except requests.RequestException as e:\n",
    "        print(f\"Error fetching data: {e}\")\n",
    "        return None\n",
    "\n",
    "# Function to parse and extract data\n",
    "def parse_data(html):\n",
    "    soup = BeautifulSoup(html, 'html.parser')\n",
    "    data = []\n",
    "\n",
    "    # Example: Find all the div elements with specific classes\n",
    "    # Replace these class names with the actual class names you find\n",
    "    panels = soup.find_all(\"div\", class_=\"panel-body\")  # Adjust class name based on inspection\n",
    "    charts = soup.find_all(\"div\", class_=\"chart-container\")\n",
    "    values = soup.find_all(\"div\", class_=\"data-value\")\n",
    "\n",
    "    # Extract text from these elements\n",
    "    for panel in panels:\n",
    "        data.append(\"Panel data: \" + panel.get_text(strip=True))\n",
    "    for chart in charts:\n",
    "        data.append(\"Chart data: \" + chart.get_text(strip=True))\n",
    "    for value in values:\n",
    "        data.append(\"Value data: \" + value.get_text(strip=True))\n",
    "\n",
    "    return data\n",
    "\n",
    "# Main function to print the extracted data\n",
    "def main():\n",
    "    url = \"https://data.who.int/dashboards/covid19/cases?n=c\"\n",
    "    html = get_data(url)\n",
    "    \n",
    "    if html:\n",
    "        extracted_data = parse_data(html)\n",
    "\n",
    "        # Print the extracted data\n",
    "        for index, item in enumerate(extracted_data, start=1):\n",
    "            print(f\"NO {index}: {item}\")\n",
    "\n",
    "if __name__ == \"__main__\":\n",
    "    main()\n"
   ]
  }
 ],
 "metadata": {
  "kernelspec": {
   "display_name": "Python 3",
   "language": "python",
   "name": "python3"
  },
  "language_info": {
   "codemirror_mode": {
    "name": "ipython",
    "version": 3
   },
   "file_extension": ".py",
   "mimetype": "text/x-python",
   "name": "python",
   "nbconvert_exporter": "python",
   "pygments_lexer": "ipython3",
   "version": "3.12.6"
  }
 },
 "nbformat": 4,
 "nbformat_minor": 2
}
