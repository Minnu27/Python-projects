{
 "cells": [
  {
   "cell_type": "code",
   "execution_count": 1,
   "metadata": {},
   "outputs": [
    {
     "name": "stdout",
     "output_type": "stream",
     "text": [
      "Collecting git+https://github.com/tweepy/tweepy.git\n",
      "  Cloning https://github.com/tweepy/tweepy.git to c:\\users\\hp\\appdata\\local\\temp\\pip-req-build-8kk_ismv\n",
      "  Resolved https://github.com/tweepy/tweepy.git to commit 91a41c6e1c955d278c370d51d5cf43b05f7cd979\n",
      "  Installing build dependencies: started\n",
      "  Installing build dependencies: finished with status 'done'\n",
      "  Getting requirements to build wheel: started\n",
      "  Getting requirements to build wheel: finished with status 'done'\n",
      "  Preparing metadata (pyproject.toml): started\n",
      "  Preparing metadata (pyproject.toml): finished with status 'done'\n",
      "Requirement already satisfied: oauthlib<4,>=3.2.0 in c:\\users\\hp\\python installations\\lib\\site-packages (from tweepy==4.14.0) (3.2.2)\n",
      "Requirement already satisfied: requests<3,>=2.27.0 in c:\\users\\hp\\python installations\\lib\\site-packages (from tweepy==4.14.0) (2.32.3)\n",
      "Requirement already satisfied: requests-oauthlib<2,>=1.2.0 in c:\\users\\hp\\python installations\\lib\\site-packages (from tweepy==4.14.0) (1.3.1)\n",
      "Requirement already satisfied: charset-normalizer<4,>=2 in c:\\users\\hp\\python installations\\lib\\site-packages (from requests<3,>=2.27.0->tweepy==4.14.0) (3.3.2)\n",
      "Requirement already satisfied: idna<4,>=2.5 in c:\\users\\hp\\python installations\\lib\\site-packages (from requests<3,>=2.27.0->tweepy==4.14.0) (3.8)\n",
      "Requirement already satisfied: urllib3<3,>=1.21.1 in c:\\users\\hp\\python installations\\lib\\site-packages (from requests<3,>=2.27.0->tweepy==4.14.0) (2.2.3)\n",
      "Requirement already satisfied: certifi>=2017.4.17 in c:\\users\\hp\\python installations\\lib\\site-packages (from requests<3,>=2.27.0->tweepy==4.14.0) (2024.8.30)\n"
     ]
    },
    {
     "name": "stderr",
     "output_type": "stream",
     "text": [
      "  Running command git clone --filter=blob:none --quiet https://github.com/tweepy/tweepy.git 'C:\\Users\\HP\\AppData\\Local\\Temp\\pip-req-build-8kk_ismv'\n"
     ]
    }
   ],
   "source": [
    "! pip install git+https://github.com/tweepy/tweepy.git"
   ]
  },
  {
   "cell_type": "code",
   "execution_count": 10,
   "metadata": {},
   "outputs": [
    {
     "name": "stdout",
     "output_type": "stream",
     "text": [
      "Requirement already satisfied: tweepy in c:\\users\\hp\\python installations\\lib\\site-packages (4.14.0)\n",
      "Requirement already satisfied: oauthlib<4,>=3.2.0 in c:\\users\\hp\\python installations\\lib\\site-packages (from tweepy) (3.2.2)\n",
      "Requirement already satisfied: requests<3,>=2.27.0 in c:\\users\\hp\\python installations\\lib\\site-packages (from tweepy) (2.32.3)\n",
      "Requirement already satisfied: requests-oauthlib<2,>=1.2.0 in c:\\users\\hp\\python installations\\lib\\site-packages (from tweepy) (1.3.1)\n",
      "Requirement already satisfied: charset-normalizer<4,>=2 in c:\\users\\hp\\python installations\\lib\\site-packages (from requests<3,>=2.27.0->tweepy) (3.3.2)\n",
      "Requirement already satisfied: idna<4,>=2.5 in c:\\users\\hp\\python installations\\lib\\site-packages (from requests<3,>=2.27.0->tweepy) (3.8)\n",
      "Requirement already satisfied: urllib3<3,>=1.21.1 in c:\\users\\hp\\python installations\\lib\\site-packages (from requests<3,>=2.27.0->tweepy) (2.2.3)\n",
      "Requirement already satisfied: certifi>=2017.4.17 in c:\\users\\hp\\python installations\\lib\\site-packages (from requests<3,>=2.27.0->tweepy) (2024.8.30)\n",
      "Twitter bot which retweets, likes tweets, and follows users\n",
      "Bot Settings\n",
      "Like Tweets: True\n",
      "Follow users: True\n",
      "Authorization Error: 401 Unauthorized\n",
      "89 - Invalid or expired token.\n"
     ]
    }
   ],
   "source": [
    "# Install the required library\n",
    "! pip install tweepy\n",
    "\n",
    "# Configuration for the Twitter bot\n",
    "QUERY = '#anything'  # Define the hashtag or query to search for\n",
    "LIKE = True          # Whether to like tweets\n",
    "FOLLOW = True        # Whether to follow users\n",
    "SLEEP_TIME = 300     # Sleep time in seconds\n",
    "\n",
    "# Twitter API credentials (replace with your actual credentials)\n",
    "consumer_key = 'YOUR_CONSUMER_KEY'\n",
    "consumer_secret = 'YOUR_CONSUMER_SECRET'\n",
    "access_token = 'YOUR_ACCESS_TOKEN'\n",
    "access_token_secret = 'YOUR_ACCESS_TOKEN_SECRET'\n",
    "\n",
    "import tweepy\n",
    "from time import sleep\n",
    "\n",
    "# Authenticate to Twitter\n",
    "auth = tweepy.OAuthHandler(consumer_key, consumer_secret)\n",
    "auth.set_access_token(access_token, access_token_secret)\n",
    "api = tweepy.API(auth, wait_on_rate_limit=True)\n",
    "\n",
    "print(\"Twitter bot which retweets, likes tweets, and follows users\")\n",
    "print(\"Bot Settings\")\n",
    "print(\"Like Tweets:\", LIKE)\n",
    "print(\"Follow users:\", FOLLOW)\n",
    "\n",
    "# Main bot loop using the new search_tweets method\n",
    "try:\n",
    "    for tweet in tweepy.Cursor(api.search_tweets, q=QUERY, lang=\"en\").items():\n",
    "        try:\n",
    "            print('\\nTweet by: @' + tweet.user.screen_name)\n",
    "\n",
    "            # Retweet the tweet\n",
    "            tweet.retweet()\n",
    "            print('Retweeted the tweet')\n",
    "\n",
    "            # Like the tweet\n",
    "            if LIKE:\n",
    "                tweet.favorite()\n",
    "                print('Favorited the tweet')\n",
    "\n",
    "            # Follow the user who tweeted\n",
    "            if FOLLOW:\n",
    "                if not tweet.user.following:\n",
    "                    tweet.user.follow()\n",
    "                    print('Followed the user')\n",
    "\n",
    "            # Sleep to avoid hitting rate limits\n",
    "            sleep(SLEEP_TIME)\n",
    "\n",
    "        except Exception as e:\n",
    "            print(f\"Error: {e}\")\n",
    "\n",
    "        except StopIteration:\n",
    "            break\n",
    "\n",
    "except Exception as e:\n",
    "    print(f\"Authorization Error: {e}\")\n"
   ]
  }
 ],
 "metadata": {
  "kernelspec": {
   "display_name": "Python 3",
   "language": "python",
   "name": "python3"
  },
  "language_info": {
   "codemirror_mode": {
    "name": "ipython",
    "version": 3
   },
   "file_extension": ".py",
   "mimetype": "text/x-python",
   "name": "python",
   "nbconvert_exporter": "python",
   "pygments_lexer": "ipython3",
   "version": "3.12.6"
  }
 },
 "nbformat": 4,
 "nbformat_minor": 2
}
